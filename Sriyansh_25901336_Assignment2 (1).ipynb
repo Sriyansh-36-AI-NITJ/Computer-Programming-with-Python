{
  "cells": [
    {
      "cell_type": "markdown",
      "source": [
        "**NAME:** Sriyansh\n",
        "\n",
        "**Roll No.:** 25901336\n",
        "\n",
        "**Course Code:** AI-503\n",
        "\n",
        "**Course:** Computer Programming with Python"
      ],
      "metadata": {
        "id": "F8rjeWvtPt8m"
      },
      "id": "F8rjeWvtPt8m"
    },
    {
      "cell_type": "markdown",
      "id": "276818bf",
      "metadata": {
        "id": "276818bf"
      },
      "source": [
        "**1.Positive or Negative**\n",
        "\n",
        "Write a program to check whether a given number is positive, negative, or zero."
      ]
    },
    {
      "cell_type": "code",
      "execution_count": null,
      "id": "5ac15f61",
      "metadata": {
        "id": "5ac15f61",
        "outputId": "124048ce-735c-4cc2-e09b-62b2c2c025ba"
      },
      "outputs": [
        {
          "name": "stdout",
          "output_type": "stream",
          "text": [
            "The number is negative.\n"
          ]
        }
      ],
      "source": [
        "number = float(input(\"Enter a number: \"))\n",
        "\n",
        "if number > 0:\n",
        "    print(\"The number is positive.\")\n",
        "elif number < 0:\n",
        "    print(\"The number is negative.\")\n",
        "else:\n",
        "    print(\"The number is zero.\")\n",
        "\n",
        "# --- LOGIC ---\n",
        "# The code takes a number as input from the user and checks if it is positive, negative, or zero.\n",
        "# It uses if-elif-else statements:\n",
        "# - If the number is greater than 0, it prints \"The number is positive.\"\n",
        "# - If the number is less than 0, it prints \"The number is negative.\"\n",
        "# - If the number is equal to 0, it prints \"The number is zero.\""
      ]
    },
    {
      "cell_type": "markdown",
      "id": "4b6cdacf",
      "metadata": {
        "id": "4b6cdacf"
      },
      "source": [
        "**2.Even or Odd**\n",
        "\n",
        "Write a program to check whether a given integer is even or odd."
      ]
    },
    {
      "cell_type": "code",
      "execution_count": null,
      "id": "9331bc91",
      "metadata": {
        "id": "9331bc91",
        "outputId": "dc6cbc19-8f95-41d5-db41-09dcf958dc73"
      },
      "outputs": [
        {
          "name": "stdout",
          "output_type": "stream",
          "text": [
            "The number is even.\n"
          ]
        }
      ],
      "source": [
        "num = int(input(\"Enter an integer: \"))\n",
        "if num % 2 == 0:\n",
        "    print(\"The number is even.\")\n",
        "else:\n",
        "    print(\"The number is odd.\")\n",
        "\n",
        "# --- LOGIC ---\n",
        "# The code takes an integer input from the user and checks if it is even or odd.\n",
        "# It uses the modulo operator (%) to check the remainder when the number is divided by 2:\n",
        "# - If the remainder is 0, the number is even.\n",
        "# - Otherwise, the number is odd.\n",
        "# The result is printed accordingly."
      ]
    },
    {
      "cell_type": "markdown",
      "id": "12e4efc7",
      "metadata": {
        "id": "12e4efc7"
      },
      "source": [
        "**3. Largest of Two Numbers**\n",
        "\n",
        "Write a program to input two numbers and print which one is larger."
      ]
    },
    {
      "cell_type": "code",
      "execution_count": null,
      "id": "90234076",
      "metadata": {
        "id": "90234076",
        "outputId": "c9183ad1-c23d-4703-c22f-55436d052b27"
      },
      "outputs": [
        {
          "name": "stdout",
          "output_type": "stream",
          "text": [
            "Both numbers are equal.\n"
          ]
        }
      ],
      "source": [
        "a = float(input(\"Enter first number: \"))\n",
        "b = float(input(\"Enter second number: \"))\n",
        "\n",
        "if a > b:\n",
        "    print(f\"{a} is larger than {b}.\")\n",
        "elif b > a:\n",
        "    print(f\"{b} is larger than {a}.\")\n",
        "else:\n",
        "    print(\"Both numbers are equal.\")\n",
        "\n",
        "\n",
        "# --- LOGIC ---\n",
        "# The code takes two numbers as input from the user and compares them.\n",
        "# It uses if-elif-else statements:\n",
        "# - If the first number is greater than the second, it prints that the first is larger.\n",
        "# - If the second number is greater than the first, it prints that the second is larger.\n",
        "# - If both numbers are equal, it prints that both are equal."
      ]
    },
    {
      "cell_type": "markdown",
      "id": "88889383",
      "metadata": {
        "id": "88889383"
      },
      "source": [
        "4.**Absolute Value**\n",
        "\n",
        "Write a program to find the absolute value of a given number without using the abs()\n",
        "function."
      ]
    },
    {
      "cell_type": "code",
      "execution_count": null,
      "id": "63d830ca",
      "metadata": {
        "id": "63d830ca",
        "outputId": "0587ef85-d767-4baa-8560-87be524ad4f8"
      },
      "outputs": [
        {
          "name": "stdout",
          "output_type": "stream",
          "text": [
            "The absolute value is 5.0.\n"
          ]
        }
      ],
      "source": [
        "user_input = float(input(\"Enter a number: \"))\n",
        "if user_input < 0:\n",
        "    absolute_value = -user_input\n",
        "else:\n",
        "    absolute_value = user_input\n",
        "print(f\"The absolute value is {absolute_value}.\")\n",
        "\n",
        "# --- LOGIC ---\n",
        "# The code takes a number as input from the user and calculates its absolute value.\n",
        "# It checks if the number is negative:\n",
        "# - If it is negative, it multiplies the number by -1 to make it positive.\n",
        "# - If it is not negative, it keeps the number as is.\n",
        "# Finally, it prints the absolute value."
      ]
    },
    {
      "cell_type": "markdown",
      "id": "a81b078c",
      "metadata": {
        "id": "a81b078c"
      },
      "source": [
        "5.**Eligibility for Voting**\n",
        "\n",
        "Write a program to check whether a person is eligible to vote or not. (A person is\n",
        "eligible if their age is 18 or above)."
      ]
    },
    {
      "cell_type": "code",
      "execution_count": null,
      "id": "e5a39a10",
      "metadata": {
        "id": "e5a39a10",
        "outputId": "7ed77bb1-61bf-478c-c147-88ea39c997af"
      },
      "outputs": [
        {
          "name": "stdout",
          "output_type": "stream",
          "text": [
            "You are eligible to vote.\n"
          ]
        }
      ],
      "source": [
        "age = int(input(\"Enter your age: \"))\n",
        "if age >= 18:\n",
        "    print(\"You are eligible to vote.\")\n",
        "else:\n",
        "    print(\"You are not eligible to vote.\")\n",
        "\n",
        "# --- LOGIC ---\n",
        "# The code takes the user's age as input and checks if they are eligible to vote.\n",
        "# It uses an if-else statement:\n",
        "# - If the age is 18 or older, it prints \"You are eligible to vote.\"\n",
        "# - If the age is less than 18, it prints \"You are not eligible to vote.\""
      ]
    },
    {
      "cell_type": "markdown",
      "id": "e711aa46",
      "metadata": {
        "id": "e711aa46"
      },
      "source": [
        "6.**Leap Year Check**\n",
        "\n",
        "Write a program to check whether a given year is a leap year or not. (Hint: A leap year is\n",
        "divisible by 4, but not by 100 unless also divisible by 400)."
      ]
    },
    {
      "cell_type": "code",
      "execution_count": null,
      "id": "1e9088ca",
      "metadata": {
        "id": "1e9088ca",
        "outputId": "c644db2e-9190-4612-f759-d51e3a1f3999"
      },
      "outputs": [
        {
          "name": "stdout",
          "output_type": "stream",
          "text": [
            "1200 is a leap year.\n"
          ]
        }
      ],
      "source": [
        "year = int(input(\"Enter a year: \"))\n",
        "if (year % 4 == 0 and year % 100 != 0) or (year % 400 == 0):\n",
        "    print(f\"{year} is a leap year.\")\n",
        "else:\n",
        "    print(f\"{year} is not a leap year.\")\n",
        "\n",
        "# --- LOGIC ---\n",
        "# The code takes a year as input from the user and checks if it is a leap year.\n",
        "# It uses the following rules to determine if a year is a leap year:\n",
        "# - A year is a leap year if it is divisible by 4.\n",
        "# - However, if the year is divisible by 100, it is not a leap year, unless it is also divisible by 400."
      ]
    },
    {
      "cell_type": "markdown",
      "id": "15eada81",
      "metadata": {
        "id": "15eada81"
      },
      "source": [
        "**7.Grade Calculation**\n",
        "\n",
        "Write a program that takes marks as input and prints:\n",
        "- 'Pass' if marks are 40 or above\n",
        "- 'Fail' if marks are less than 40"
      ]
    },
    {
      "cell_type": "code",
      "execution_count": null,
      "id": "41a37c2d",
      "metadata": {
        "id": "41a37c2d",
        "outputId": "1695996c-43f8-478f-f0a1-63c7c24727d0"
      },
      "outputs": [
        {
          "name": "stdout",
          "output_type": "stream",
          "text": [
            "Fail\n"
          ]
        }
      ],
      "source": [
        "marks = float(input(\"Enter your marks: \"))\n",
        "if marks >= 40:\n",
        "    print(\"Pass\")\n",
        "else:\n",
        "    print(\"Fail\")\n",
        "\n",
        "# --- LOGIC ---\n",
        "# The code takes the user's marks as input and checks if they have passed or failed.\n",
        "# It uses an if-else statement:\n",
        "# - If the marks are 40 or above, it prints \"Pass.\"\n",
        "# - If the marks are below 40, it prints \"Fail.\""
      ]
    },
    {
      "cell_type": "markdown",
      "id": "fe08ce1e",
      "metadata": {
        "id": "fe08ce1e"
      },
      "source": [
        "**8.Multiple of 5**\n",
        "\n",
        "Write a program to check whether a given number is a multiple of 5."
      ]
    },
    {
      "cell_type": "code",
      "execution_count": null,
      "id": "fd1469a1",
      "metadata": {
        "id": "fd1469a1",
        "outputId": "61de564d-6cc1-4d73-bfe7-4812b2e6049c"
      },
      "outputs": [
        {
          "name": "stdout",
          "output_type": "stream",
          "text": [
            "6 is not a multiple of 5.\n"
          ]
        }
      ],
      "source": [
        "num = int(input(\"Enter an integer: \"))\n",
        "if num % 5 == 0:\n",
        "    print(f\"{num} is a multiple of 5.\")\n",
        "else:\n",
        "    print(f\"{num} is not a multiple of 5.\")\n",
        "\n",
        "# --- LOGIC ---\n",
        "# The code takes an integer input from the user and checks if it is a multiple of 5.\n",
        "# It uses the modulo operator (%) to check the remainder when the number is divided by 5:\n",
        "# - If the remainder is 0, the number is a multiple of 5.\n",
        "# - Otherwise, it is not a multiple of 5."
      ]
    },
    {
      "cell_type": "markdown",
      "id": "8d96b8da",
      "metadata": {
        "id": "8d96b8da"
      },
      "source": [
        "**9.Character Case Check**\n",
        "\n",
        "Write a program to input a character and check whether it is an uppercase letter,\n",
        "lowercase letter, or not a letter."
      ]
    },
    {
      "cell_type": "code",
      "execution_count": null,
      "id": "7c7ba351",
      "metadata": {
        "id": "7c7ba351",
        "outputId": "36933c1f-cefd-47ae-dd79-d13932c896c8"
      },
      "outputs": [
        {
          "name": "stdout",
          "output_type": "stream",
          "text": [
            "Not a letter\n"
          ]
        }
      ],
      "source": [
        "char = input(\"Enter a character: \")\n",
        "\n",
        "if len(char) == 1:\n",
        "    if char.isupper():\n",
        "        print(\"Uppercase letter\")\n",
        "    elif char.islower():\n",
        "        print(\"Lowercase letter\")\n",
        "    else:\n",
        "        print(\"Not a letter\")\n",
        "else:\n",
        "    print(\"Please enter a single character.\")\n",
        "\n",
        "# --- LOGIC ---\n",
        "# The code takes a single character as input from the user and checks if it is an uppercase letter, a lowercase letter, or not a letter at all.\n",
        "# It first checks if the input length is 1:\n",
        "# - If it is, it then checks if the character is uppercase using isupper() method.\n",
        "# - If it is not uppercase, it checks if it is lowercase using islower() method.\n",
        "# - If it is neither, it prints \"Not a letter.\""
      ]
    }
  ],
  "metadata": {
    "kernelspec": {
      "display_name": "Python 3",
      "language": "python",
      "name": "python3"
    },
    "language_info": {
      "codemirror_mode": {
        "name": "ipython",
        "version": 3
      },
      "file_extension": ".py",
      "mimetype": "text/x-python",
      "name": "python",
      "nbconvert_exporter": "python",
      "pygments_lexer": "ipython3",
      "version": "3.13.7"
    },
    "colab": {
      "provenance": []
    }
  },
  "nbformat": 4,
  "nbformat_minor": 5
}