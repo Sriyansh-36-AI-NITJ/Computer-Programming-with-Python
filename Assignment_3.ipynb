{
  "nbformat": 4,
  "nbformat_minor": 0,
  "metadata": {
    "colab": {
      "provenance": [],
      "authorship_tag": "ABX9TyNheZd6G4oDACbAirSbWjRn",
      "include_colab_link": true
    },
    "kernelspec": {
      "name": "python3",
      "display_name": "Python 3"
    },
    "language_info": {
      "name": "python"
    }
  },
  "cells": [
    {
      "cell_type": "markdown",
      "metadata": {
        "id": "view-in-github",
        "colab_type": "text"
      },
      "source": [
        "<a href=\"https://colab.research.google.com/github/Sriyansh-36-AI-NITJ/Computer-Programming-with-Python/blob/main/Assignment_3.ipynb\" target=\"_parent\"><img src=\"https://colab.research.google.com/assets/colab-badge.svg\" alt=\"Open In Colab\"/></a>"
      ]
    },
    {
      "cell_type": "markdown",
      "source": [
        "#                                Assignment-3\n",
        "\n",
        "**Name :** Sriyansh\n",
        "\n",
        "**Roll No:** 25901336\n",
        "\n",
        "**Course Code:** AI-503\n",
        "\n",
        "**Course:** Computer Programming with Python\n",
        "\n"
      ],
      "metadata": {
        "id": "I1Hpp3aEUJV2"
      }
    },
    {
      "cell_type": "markdown",
      "source": [
        "Q1) Generate all prime numbers less than 100.Print them in a spiral format (like a clockwise\n",
        "square spiral) of minimal size that fits all primes."
      ],
      "metadata": {
        "id": "dPdRqhxPLNOq"
      }
    },
    {
      "cell_type": "code",
      "metadata": {
        "colab": {
          "base_uri": "https://localhost:8080/"
        },
        "id": "ffea08c8",
        "outputId": "4535aa89-0206-4be1-afe9-4516ada09566"
      },
      "source": [
        "def find_primes(limit):\n",
        "    is_prime = [True] * limit\n",
        "    is_prime[0] = is_prime[1] = False\n",
        "\n",
        "    i = 2\n",
        "    while i * i < limit:\n",
        "        if is_prime[i]:\n",
        "            for multiple in range(i * i, limit, i):\n",
        "                is_prime[multiple] = False\n",
        "        i += 1\n",
        "\n",
        "    primes = [i for i, prime_check in enumerate(is_prime) if prime_check]\n",
        "    return primes\n",
        "\n",
        "def create_spiral(numbers):\n",
        "    num_elements = len(numbers)\n",
        "    side = int(num_elements**0.5)\n",
        "    if side * side < num_elements:\n",
        "        side += 1\n",
        "\n",
        "    matrix = [[None for _ in range(side)] for _ in range(side)]\n",
        "\n",
        "    current_index = 0\n",
        "    top, bottom, left, right = 0, side - 1, 0, side - 1\n",
        "\n",
        "    while current_index < num_elements:\n",
        "\n",
        "# Right\n",
        "        for i in range(left, right + 1):\n",
        "            if current_index < num_elements:\n",
        "                matrix[top][i] = numbers[current_index]\n",
        "                current_index += 1\n",
        "        top += 1\n",
        "\n",
        "# Down\n",
        "        for i in range(top, bottom + 1):\n",
        "            if current_index < num_elements:\n",
        "                matrix[i][right] = numbers[current_index]\n",
        "                current_index += 1\n",
        "        right -= 1\n",
        "\n",
        "# Left\n",
        "        for i in range(right, left - 1, -1):\n",
        "            if current_index < num_elements:\n",
        "                matrix[bottom][i] = numbers[current_index]\n",
        "                current_index += 1\n",
        "        bottom -= 1\n",
        "\n",
        "# Up\n",
        "        for i in range(bottom, top - 1, -1):\n",
        "            if current_index < num_elements:\n",
        "                matrix[i][left] = numbers[current_index]\n",
        "                current_index += 1\n",
        "        left += 1\n",
        "\n",
        "    return matrix\n",
        "\n",
        "primes = find_primes(100)\n",
        "spiral_matrix = create_spiral(primes)\n",
        "\n",
        "print(f\"Prime numbers less than 100: {primes}\\n\")\n",
        "print(\"Prime numbers in a clockwise square spiral:\")\n",
        "\n",
        "max_num_len = len(str(max(primes)))\n",
        "\n",
        "for row in spiral_matrix:\n",
        "    row_str = \" \".join(f\"{num:>{max_num_len}}\" if num is not None else \" \" * max_num_len for num in row)\n",
        "    print(row_str)\n"
      ],
      "execution_count": 3,
      "outputs": [
        {
          "output_type": "stream",
          "name": "stdout",
          "text": [
            "Prime numbers less than 100: [2, 3, 5, 7, 11, 13, 17, 19, 23, 29, 31, 37, 41, 43, 47, 53, 59, 61, 67, 71, 73, 79, 83, 89, 97]\n",
            "\n",
            "Prime numbers in a clockwise square spiral:\n",
            " 2  3  5  7 11\n",
            "53 59 61 67 13\n",
            "47 89 97 71 17\n",
            "43 83 79 73 19\n",
            "41 37 31 29 23\n"
          ]
        }
      ]
    },
    {
      "cell_type": "markdown",
      "source": [
        "Q2) You are a data analyst at a streaming platform, managing user interactions, analytics,\n",
        "and daily operations. Use a for loop to create a text-based graph of hourly views. For\n",
        "example, use * to represent every 5 views."
      ],
      "metadata": {
        "id": "sNVZyDERPXU_"
      }
    },
    {
      "cell_type": "code",
      "source": [
        "def create_hourly_graph(data):\n",
        "    print(\"--- Hourly View Analysis ---\")\n",
        "    print(\"Graph of views per hour (each '*' = 5 views)\\n\")\n",
        "\n",
        "    for hour, views in data.items():\n",
        "        num_asterisks = views // 5\n",
        "        bar = '*' * num_asterisks\n",
        "\n",
        "        print(f\"{hour:<5} | {views:>5} | {bar}\")\n",
        "\n",
        "hourly_views = {\n",
        "    \"12 AM\": 100,\n",
        "    \"1 AM\": 75,\n",
        "    \"2 AM\": 50,\n",
        "    \"3 AM\": 45,\n",
        "    \"4 AM\": 30,\n",
        "    \"5 AM\": 20,\n",
        "    \"6 AM\": 15,\n",
        "    \"7 AM\": 25,\n",
        "    \"8 AM\": 60,\n",
        "    \"9 AM\": 120,\n",
        "    \"10 AM\": 180,\n",
        "    \"11 AM\": 250,\n",
        "    \"12 PM\": 300,\n",
        "    \"1 PM\": 280,\n",
        "    \"2 PM\": 255,\n",
        "    \"3 PM\": 210,\n",
        "    \"4 PM\": 230,\n",
        "    \"5 PM\": 270,\n",
        "    \"6 PM\": 320,\n",
        "    \"7 PM\": 350,\n",
        "    \"8 PM\": 400,\n",
        "    \"9 PM\": 380,\n",
        "    \"10 PM\": 310,\n",
        "    \"11 PM\": 240\n",
        "}\n",
        "\n",
        "create_hourly_graph(hourly_views)\n"
      ],
      "metadata": {
        "colab": {
          "base_uri": "https://localhost:8080/"
        },
        "id": "YtO2rZUJPcHp",
        "outputId": "3883c83a-e113-4c9a-f896-e0f1246fc591"
      },
      "execution_count": 4,
      "outputs": [
        {
          "output_type": "stream",
          "name": "stdout",
          "text": [
            "--- Hourly View Analysis ---\n",
            "Graph of views per hour (each '*' = 5 views)\n",
            "\n",
            "12 AM |   100 | ********************\n",
            "1 AM  |    75 | ***************\n",
            "2 AM  |    50 | **********\n",
            "3 AM  |    45 | *********\n",
            "4 AM  |    30 | ******\n",
            "5 AM  |    20 | ****\n",
            "6 AM  |    15 | ***\n",
            "7 AM  |    25 | *****\n",
            "8 AM  |    60 | ************\n",
            "9 AM  |   120 | ************************\n",
            "10 AM |   180 | ************************************\n",
            "11 AM |   250 | **************************************************\n",
            "12 PM |   300 | ************************************************************\n",
            "1 PM  |   280 | ********************************************************\n",
            "2 PM  |   255 | ***************************************************\n",
            "3 PM  |   210 | ******************************************\n",
            "4 PM  |   230 | **********************************************\n",
            "5 PM  |   270 | ******************************************************\n",
            "6 PM  |   320 | ****************************************************************\n",
            "7 PM  |   350 | **********************************************************************\n",
            "8 PM  |   400 | ********************************************************************************\n",
            "9 PM  |   380 | ****************************************************************************\n",
            "10 PM |   310 | **************************************************************\n",
            "11 PM |   240 | ************************************************\n"
          ]
        }
      ]
    },
    {
      "cell_type": "markdown",
      "source": [
        "Q3) Each video watched generates revenue based on ad impressions:\n",
        "\n",
        "  First 10 views: $0.50 per view\n",
        "\n",
        "*   First 10 views: $0.50 per view\n",
        "\n",
        "*   Next 20 views: $0.30 per view\n",
        "\n",
        "*   Remaining views: $0.10 per view\n",
        "\n",
        "You are given hourly views for the day. Calculate total daily revenue.\n",
        "\n",
        "\n",
        "\n",
        "\n",
        "\n",
        "\n"
      ],
      "metadata": {
        "id": "7doPZUgoRRLv"
      }
    },
    {
      "cell_type": "code",
      "source": [
        "def create_hourly_graph(data):\n",
        "    print(\"--- Hourly View Analysis ---\")\n",
        "    print(\"Hourly views\\n\")\n",
        "\n",
        "    for hour, views in data.items():\n",
        "\n",
        "        print(f\"{hour:<5} | {views:>5}\")\n",
        "\n",
        "def calculate_daily_revenue(total_views):\n",
        "\n",
        "    revenue = 0.0\n",
        "\n",
        "    # Tier 1: First 10 views at $0.50 per view\n",
        "    if total_views > 10:\n",
        "        revenue += 10 * 0.50\n",
        "        remaining_views = total_views - 10\n",
        "    else:\n",
        "        revenue += total_views * 0.50\n",
        "        remaining_views = 0\n",
        "\n",
        "    # Tier 2: Next 20 views at $0.30 per view\n",
        "    if remaining_views > 20:\n",
        "        revenue += 20 * 0.30\n",
        "        remaining_views -= 20\n",
        "    else:\n",
        "        revenue += remaining_views * 0.30\n",
        "        remaining_views = 0\n",
        "\n",
        "    # Tier 3: Remaining views at $0.10 per view\n",
        "    if remaining_views > 0:\n",
        "        revenue += remaining_views * 0.10\n",
        "\n",
        "    return revenue\n",
        "\n",
        "hourly_views = {\n",
        "    \"12 AM\": 100,\n",
        "    \"1 AM\": 75,\n",
        "    \"2 AM\": 50,\n",
        "    \"3 AM\": 45,\n",
        "    \"4 AM\": 30,\n",
        "    \"5 AM\": 20,\n",
        "    \"6 AM\": 15,\n",
        "    \"7 AM\": 25,\n",
        "    \"8 AM\": 60,\n",
        "    \"9 AM\": 120,\n",
        "    \"10 AM\": 180,\n",
        "    \"11 AM\": 250,\n",
        "    \"12 PM\": 300,\n",
        "    \"1 PM\": 280,\n",
        "    \"2 PM\": 255,\n",
        "    \"3 PM\": 210,\n",
        "    \"4 PM\": 230,\n",
        "    \"5 PM\": 270,\n",
        "    \"6 PM\": 320,\n",
        "    \"7 PM\": 350,\n",
        "    \"8 PM\": 400,\n",
        "    \"9 PM\": 380,\n",
        "    \"10 PM\": 310,\n",
        "    \"11 PM\": 240\n",
        "}\n",
        "\n",
        "create_hourly_graph(hourly_views)\n",
        "\n",
        "print(\"\\n\" + \"-\"*40 + \"\\n\")\n",
        "\n",
        "total_daily_views = sum(hourly_views.values())\n",
        "total_revenue = calculate_daily_revenue(total_daily_views)\n",
        "print(f\"Total daily views: {total_daily_views}\")\n",
        "print(f\"Total daily revenue: ${total_revenue:.2f}\")\n"
      ],
      "metadata": {
        "colab": {
          "base_uri": "https://localhost:8080/"
        },
        "id": "QDLniqt_R43m",
        "outputId": "51327d3b-8612-4d34-fa80-2a37cd0233bc"
      },
      "execution_count": 6,
      "outputs": [
        {
          "output_type": "stream",
          "name": "stdout",
          "text": [
            "--- Hourly View Analysis ---\n",
            "Hourly views\n",
            "\n",
            "12 AM |   100\n",
            "1 AM  |    75\n",
            "2 AM  |    50\n",
            "3 AM  |    45\n",
            "4 AM  |    30\n",
            "5 AM  |    20\n",
            "6 AM  |    15\n",
            "7 AM  |    25\n",
            "8 AM  |    60\n",
            "9 AM  |   120\n",
            "10 AM |   180\n",
            "11 AM |   250\n",
            "12 PM |   300\n",
            "1 PM  |   280\n",
            "2 PM  |   255\n",
            "3 PM  |   210\n",
            "4 PM  |   230\n",
            "5 PM  |   270\n",
            "6 PM  |   320\n",
            "7 PM  |   350\n",
            "8 PM  |   400\n",
            "9 PM  |   380\n",
            "10 PM |   310\n",
            "11 PM |   240\n",
            "\n",
            "----------------------------------------\n",
            "\n",
            "Total daily views: 4515\n",
            "Total daily revenue: $459.50\n"
          ]
        }
      ]
    }
  ]
}